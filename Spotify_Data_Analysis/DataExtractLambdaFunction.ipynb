import json
import os
import spotipy
from spotipy.oauth2 import SpotifyClientCredentials
import boto3
from datetime import datetime
def lambda_handler(event, context):
    c_id=os.environ.get('client_id')
    c_secret=os.environ.get('client_secret')
    ccm = SpotifyClientCredentials(client_id=c_id, client_secret=c_secret)
    sp_object = spotipy.Spotify(client_credentials_manager = ccm)
    pl_link = "https://open.spotify.com/playlist/37i9dQZEVXbNG2KDcFcKOF?si=1333723a6eff4b7f"
    pl_uri=pl_link.split("/")[-1].split("?")[0]
    data_json = sp_object.playlist_tracks(pl_uri)
    cb=boto3.client('s3')
    filename="spotify_raw_file"+str(datetime.now())+".json"
    cb.put_object(Bucket="spotify-bucket-phani", Key="raw_data/tobe_processed/"+filename, Body=json.dumps(data_json))